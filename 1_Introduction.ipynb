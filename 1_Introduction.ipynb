{
 "cells": [
  {
   "cell_type": "code",
   "execution_count": 1,
   "id": "89fe32f7",
   "metadata": {},
   "outputs": [],
   "source": [
    "import pandas as pd\n",
    "import torch\n",
    "import torch.nn as nn\n",
    "import matplotlib.pyplot as plt"
   ]
  },
  {
   "cell_type": "code",
   "execution_count": 2,
   "id": "34f10e00",
   "metadata": {},
   "outputs": [
    {
     "data": {
      "text/plain": [
       "<torch._C.Generator at 0x7f8ba6fcc630>"
      ]
     },
     "execution_count": 2,
     "metadata": {},
     "output_type": "execute_result"
    }
   ],
   "source": [
    "torch.manual_seed(0)"
   ]
  },
  {
   "cell_type": "code",
   "execution_count": 3,
   "id": "ed045964",
   "metadata": {},
   "outputs": [
    {
     "data": {
      "text/html": [
       "<div>\n",
       "<style scoped>\n",
       "    .dataframe tbody tr th:only-of-type {\n",
       "        vertical-align: middle;\n",
       "    }\n",
       "\n",
       "    .dataframe tbody tr th {\n",
       "        vertical-align: top;\n",
       "    }\n",
       "\n",
       "    .dataframe thead th {\n",
       "        text-align: right;\n",
       "    }\n",
       "</style>\n",
       "<table border=\"1\" class=\"dataframe\">\n",
       "  <thead>\n",
       "    <tr style=\"text-align: right;\">\n",
       "      <th></th>\n",
       "      <th>D</th>\n",
       "      <th>X1</th>\n",
       "      <th>X2</th>\n",
       "      <th>X3</th>\n",
       "      <th>X4</th>\n",
       "      <th>X5</th>\n",
       "      <th>X6</th>\n",
       "    </tr>\n",
       "  </thead>\n",
       "  <tbody>\n",
       "    <tr>\n",
       "      <th>0</th>\n",
       "      <td>0</td>\n",
       "      <td>3</td>\n",
       "      <td>3</td>\n",
       "      <td>3</td>\n",
       "      <td>4</td>\n",
       "      <td>2</td>\n",
       "      <td>4</td>\n",
       "    </tr>\n",
       "    <tr>\n",
       "      <th>1</th>\n",
       "      <td>0</td>\n",
       "      <td>3</td>\n",
       "      <td>2</td>\n",
       "      <td>3</td>\n",
       "      <td>5</td>\n",
       "      <td>4</td>\n",
       "      <td>3</td>\n",
       "    </tr>\n",
       "    <tr>\n",
       "      <th>2</th>\n",
       "      <td>1</td>\n",
       "      <td>5</td>\n",
       "      <td>3</td>\n",
       "      <td>3</td>\n",
       "      <td>3</td>\n",
       "      <td>3</td>\n",
       "      <td>5</td>\n",
       "    </tr>\n",
       "    <tr>\n",
       "      <th>3</th>\n",
       "      <td>0</td>\n",
       "      <td>5</td>\n",
       "      <td>4</td>\n",
       "      <td>3</td>\n",
       "      <td>3</td>\n",
       "      <td>3</td>\n",
       "      <td>5</td>\n",
       "    </tr>\n",
       "    <tr>\n",
       "      <th>4</th>\n",
       "      <td>0</td>\n",
       "      <td>5</td>\n",
       "      <td>4</td>\n",
       "      <td>3</td>\n",
       "      <td>3</td>\n",
       "      <td>3</td>\n",
       "      <td>5</td>\n",
       "    </tr>\n",
       "  </tbody>\n",
       "</table>\n",
       "</div>"
      ],
      "text/plain": [
       "   D  X1  X2  X3  X4  X5  X6\n",
       "0  0   3   3   3   4   2   4\n",
       "1  0   3   2   3   5   4   3\n",
       "2  1   5   3   3   3   3   5\n",
       "3  0   5   4   3   3   3   5\n",
       "4  0   5   4   3   3   3   5"
      ]
     },
     "execution_count": 3,
     "metadata": {},
     "output_type": "execute_result"
    }
   ],
   "source": [
    "data = pd.read_csv(\"data/SomervilleHappinessSurvey2015.csv\")\n",
    "data.head()"
   ]
  },
  {
   "cell_type": "code",
   "execution_count": 4,
   "id": "b6140f94",
   "metadata": {},
   "outputs": [
    {
     "data": {
      "text/plain": [
       "(143, 7)"
      ]
     },
     "execution_count": 4,
     "metadata": {},
     "output_type": "execute_result"
    }
   ],
   "source": [
    "data.shape"
   ]
  },
  {
   "cell_type": "code",
   "execution_count": 5,
   "id": "514db513",
   "metadata": {},
   "outputs": [],
   "source": [
    "x = torch.tensor(data.iloc[:,1:].values).float()\n",
    "y = torch.tensor(data.iloc[:,:1].values).float()"
   ]
  },
  {
   "cell_type": "code",
   "execution_count": 6,
   "id": "d1876b8f",
   "metadata": {},
   "outputs": [
    {
     "data": {
      "text/plain": [
       "tensor([[3., 3., 3., 4., 2., 4.],\n",
       "        [3., 2., 3., 5., 4., 3.],\n",
       "        [5., 3., 3., 3., 3., 5.],\n",
       "        [5., 4., 3., 3., 3., 5.],\n",
       "        [5., 4., 3., 3., 3., 5.],\n",
       "        [5., 5., 3., 5., 5., 5.],\n",
       "        [3., 1., 2., 2., 1., 3.],\n",
       "        [5., 4., 4., 4., 4., 5.],\n",
       "        [4., 1., 4., 4., 4., 4.],\n",
       "        [4., 4., 4., 2., 5., 5.],\n",
       "        [3., 2., 3., 3., 2., 3.],\n",
       "        [4., 4., 3., 4., 4., 4.],\n",
       "        [5., 2., 4., 5., 5., 5.],\n",
       "        [4., 2., 4., 5., 4., 3.],\n",
       "        [4., 1., 3., 3., 4., 3.],\n",
       "        [3., 2., 4., 3., 4., 4.],\n",
       "        [5., 3., 4., 5., 4., 5.],\n",
       "        [5., 1., 4., 3., 4., 5.],\n",
       "        [5., 1., 2., 4., 4., 5.],\n",
       "        [4., 2., 4., 4., 4., 4.],\n",
       "        [4., 2., 3., 3., 4., 4.],\n",
       "        [4., 2., 3., 3., 4., 4.],\n",
       "        [4., 3., 5., 5., 5., 4.],\n",
       "        [4., 3., 5., 5., 5., 4.],\n",
       "        [5., 1., 2., 5., 2., 4.],\n",
       "        [4., 3., 3., 3., 3., 4.],\n",
       "        [3., 4., 3., 3., 2., 3.],\n",
       "        [3., 3., 3., 5., 5., 5.],\n",
       "        [3., 3., 1., 3., 3., 4.],\n",
       "        [3., 3., 1., 3., 3., 4.],\n",
       "        [5., 3., 3., 3., 5., 3.],\n",
       "        [5., 3., 3., 3., 5., 3.],\n",
       "        [4., 3., 3., 3., 4., 4.],\n",
       "        [4., 1., 3., 4., 4., 5.],\n",
       "        [3., 2., 4., 4., 4., 5.],\n",
       "        [3., 2., 4., 4., 4., 5.],\n",
       "        [4., 1., 3., 1., 1., 4.],\n",
       "        [4., 2., 3., 3., 4., 4.],\n",
       "        [5., 3., 4., 3., 4., 5.],\n",
       "        [5., 3., 4., 3., 4., 5.],\n",
       "        [5., 2., 3., 3., 2., 5.],\n",
       "        [4., 4., 3., 4., 2., 4.],\n",
       "        [4., 1., 3., 4., 4., 3.],\n",
       "        [5., 2., 3., 3., 3., 3.],\n",
       "        [4., 2., 4., 3., 2., 4.],\n",
       "        [5., 2., 3., 3., 4., 5.],\n",
       "        [4., 3., 3., 4., 2., 4.],\n",
       "        [3., 1., 2., 4., 3., 5.],\n",
       "        [5., 3., 4., 4., 4., 5.],\n",
       "        [5., 3., 3., 4., 4., 5.],\n",
       "        [1., 1., 1., 3., 1., 4.],\n",
       "        [5., 2., 5., 5., 5., 3.],\n",
       "        [5., 1., 3., 3., 4., 4.],\n",
       "        [5., 1., 3., 3., 4., 4.],\n",
       "        [5., 1., 3., 3., 4., 4.],\n",
       "        [5., 2., 4., 3., 4., 5.],\n",
       "        [5., 2., 4., 3., 4., 5.],\n",
       "        [4., 3., 2., 4., 3., 4.],\n",
       "        [4., 3., 2., 4., 3., 4.],\n",
       "        [5., 1., 1., 5., 3., 5.],\n",
       "        [4., 4., 4., 4., 3., 4.],\n",
       "        [5., 3., 5., 5., 4., 5.],\n",
       "        [5., 2., 4., 2., 2., 4.],\n",
       "        [4., 4., 3., 3., 2., 5.],\n",
       "        [4., 3., 3., 3., 3., 5.],\n",
       "        [5., 2., 4., 4., 5., 5.],\n",
       "        [5., 2., 4., 4., 5., 5.],\n",
       "        [5., 5., 5., 2., 5., 5.],\n",
       "        [4., 1., 3., 4., 4., 4.],\n",
       "        [4., 1., 3., 4., 4., 4.],\n",
       "        [3., 3., 3., 5., 4., 3.],\n",
       "        [4., 1., 1., 3., 4., 4.],\n",
       "        [5., 1., 5., 5., 5., 5.],\n",
       "        [5., 4., 5., 5., 5., 5.],\n",
       "        [4., 2., 2., 4., 4., 5.],\n",
       "        [4., 3., 3., 4., 3., 4.],\n",
       "        [3., 4., 3., 4., 1., 4.],\n",
       "        [4., 5., 5., 5., 1., 3.],\n",
       "        [4., 3., 3., 4., 2., 4.],\n",
       "        [5., 2., 3., 3., 2., 5.],\n",
       "        [5., 3., 3., 4., 3., 3.],\n",
       "        [5., 2., 5., 5., 5., 5.],\n",
       "        [3., 2., 3., 3., 4., 4.],\n",
       "        [4., 3., 2., 3., 2., 4.],\n",
       "        [5., 2., 3., 5., 5., 5.],\n",
       "        [5., 3., 3., 3., 2., 5.],\n",
       "        [5., 5., 5., 5., 5., 5.],\n",
       "        [4., 3., 2., 4., 4., 4.],\n",
       "        [3., 3., 3., 3., 3., 4.],\n",
       "        [4., 2., 4., 4., 4., 4.],\n",
       "        [5., 3., 2., 4., 4., 4.],\n",
       "        [4., 3., 4., 4., 2., 4.],\n",
       "        [5., 2., 3., 4., 4., 5.],\n",
       "        [5., 3., 3., 3., 5., 5.],\n",
       "        [4., 1., 3., 4., 4., 3.],\n",
       "        [5., 2., 4., 5., 4., 5.],\n",
       "        [5., 4., 2., 4., 3., 5.],\n",
       "        [3., 3., 1., 3., 2., 3.],\n",
       "        [3., 4., 5., 4., 5., 4.],\n",
       "        [5., 1., 3., 4., 5., 5.],\n",
       "        [5., 4., 5., 5., 5., 4.],\n",
       "        [5., 5., 3., 4., 4., 5.],\n",
       "        [5., 4., 4., 3., 3., 4.],\n",
       "        [5., 4., 4., 4., 4., 5.],\n",
       "        [3., 1., 3., 2., 1., 2.],\n",
       "        [5., 5., 5., 5., 5., 5.],\n",
       "        [4., 4., 3., 4., 3., 3.],\n",
       "        [5., 4., 5., 4., 5., 4.],\n",
       "        [4., 2., 3., 4., 3., 3.],\n",
       "        [3., 3., 2., 4., 4., 4.],\n",
       "        [5., 2., 2., 4., 5., 5.],\n",
       "        [5., 3., 2., 4., 4., 5.],\n",
       "        [3., 1., 2., 3., 3., 1.],\n",
       "        [5., 3., 4., 3., 4., 3.],\n",
       "        [5., 2., 3., 3., 3., 5.],\n",
       "        [4., 3., 4., 4., 3., 4.],\n",
       "        [3., 2., 2., 3., 3., 3.],\n",
       "        [4., 1., 3., 5., 3., 5.],\n",
       "        [5., 1., 4., 3., 5., 5.],\n",
       "        [4., 1., 3., 2., 4., 4.],\n",
       "        [5., 1., 5., 3., 5., 5.],\n",
       "        [4., 2., 4., 4., 4., 4.],\n",
       "        [5., 2., 4., 4., 5., 5.],\n",
       "        [5., 3., 4., 4., 4., 4.],\n",
       "        [5., 2., 4., 4., 2., 3.],\n",
       "        [5., 3., 3., 4., 4., 5.],\n",
       "        [5., 3., 3., 4., 4., 4.],\n",
       "        [3., 2., 3., 3., 5., 4.],\n",
       "        [4., 1., 3., 3., 3., 4.],\n",
       "        [5., 1., 4., 4., 4., 5.],\n",
       "        [5., 2., 2., 4., 4., 5.],\n",
       "        [5., 3., 5., 4., 5., 5.],\n",
       "        [3., 4., 4., 5., 1., 3.],\n",
       "        [5., 1., 5., 5., 5., 5.],\n",
       "        [4., 3., 3., 4., 4., 4.],\n",
       "        [5., 5., 1., 1., 5., 1.],\n",
       "        [4., 4., 4., 4., 1., 3.],\n",
       "        [5., 2., 3., 4., 4., 3.],\n",
       "        [5., 3., 3., 1., 3., 5.],\n",
       "        [5., 2., 3., 4., 2., 5.],\n",
       "        [5., 3., 3., 4., 4., 5.],\n",
       "        [4., 3., 3., 4., 4., 5.],\n",
       "        [5., 3., 2., 5., 5., 5.]])"
      ]
     },
     "execution_count": 6,
     "metadata": {},
     "output_type": "execute_result"
    }
   ],
   "source": [
    "x"
   ]
  },
  {
   "cell_type": "code",
   "execution_count": 7,
   "id": "56a47731",
   "metadata": {},
   "outputs": [],
   "source": [
    "model = nn.Sequential(nn.Linear(6, 1),\n",
    "                      nn.Sigmoid())"
   ]
  },
  {
   "cell_type": "code",
   "execution_count": 8,
   "id": "1e49adb8",
   "metadata": {},
   "outputs": [],
   "source": [
    "loss_function = torch.nn.MSELoss()"
   ]
  },
  {
   "cell_type": "code",
   "execution_count": 9,
   "id": "721ce516",
   "metadata": {},
   "outputs": [],
   "source": [
    "optimizer = torch.optim.Adam(model.parameters(), lr=0.01)"
   ]
  },
  {
   "cell_type": "code",
   "execution_count": 10,
   "id": "704fbcdb",
   "metadata": {},
   "outputs": [
    {
     "name": "stdout",
     "output_type": "stream",
     "text": [
      "0.4104820787906647\n",
      "0.26369374990463257\n",
      "0.2718642055988312\n",
      "0.2621624171733856\n",
      "0.2563962936401367\n",
      "0.2539243996143341\n",
      "0.2512779235839844\n",
      "0.2487950325012207\n",
      "0.24669502675533295\n",
      "0.24494458734989166\n"
     ]
    }
   ],
   "source": [
    "losses = []\n",
    "for i in range(100):\n",
    "    y_pred = model(x)\n",
    "    loss = loss_function(y_pred, y)\n",
    "    losses.append(loss.item())\n",
    "    optimizer.zero_grad()\n",
    "    loss.backward()\n",
    "    optimizer.step()\n",
    "    \n",
    "    if i%10 == 0:\n",
    "        print(loss.item())"
   ]
  },
  {
   "cell_type": "code",
   "execution_count": 11,
   "id": "18b5ac35",
   "metadata": {},
   "outputs": [
    {
     "data": {
      "image/png": "[encoded data removed]",
      "text/plain": [
       "<Figure size 432x288 with 1 Axes>"
      ]
     },
     "metadata": {
      "needs_background": "light"
     },
     "output_type": "display_data"
    }
   ],
   "source": [
    "plt.plot(range(0,100), losses)\n",
    "plt.show()"
   ]
  },
  {
   "cell_type": "code",
   "execution_count": null,
   "id": "2c6dab98",
   "metadata": {},
   "outputs": [],
   "source": []
  },
  {
   "cell_type": "code",
   "execution_count": 12,
   "id": "be4968c6",
   "metadata": {},
   "outputs": [],
   "source": [
    "tensor_1 = torch.tensor([0.1,1,0.9,0.7,0.3])\n",
    "tensor_2 = torch.tensor([[0,0.2,0.4,0.6],[1,0.8,0.6,0.4]])\n",
    "tensor_3 = torch.tensor([[[0.3,0.6],[1,0]], [[0.3,0.6],[0,1]]])"
   ]
  },
  {
   "cell_type": "code",
   "execution_count": 13,
   "id": "c4b940fa",
   "metadata": {},
   "outputs": [
    {
     "name": "stdout",
     "output_type": "stream",
     "text": [
      "torch.Size([5])\n",
      "torch.Size([2, 4])\n",
      "torch.Size([2, 2, 2])\n"
     ]
    }
   ],
   "source": [
    "print(tensor_1.shape)\n",
    "print(tensor_2.shape)\n",
    "print(tensor_3.shape)"
   ]
  },
  {
   "cell_type": "code",
   "execution_count": null,
   "id": "ed243032",
   "metadata": {},
   "outputs": [],
   "source": []
  },
  {
   "cell_type": "code",
   "execution_count": 14,
   "id": "4994efe9",
   "metadata": {},
   "outputs": [],
   "source": [
    "input_units = 10\n",
    "output_units = 1"
   ]
  },
  {
   "cell_type": "code",
   "execution_count": 15,
   "id": "6fcbc35b",
   "metadata": {},
   "outputs": [
    {
     "name": "stdout",
     "output_type": "stream",
     "text": [
      "Sequential(\n",
      "  (0): Linear(in_features=10, out_features=1, bias=True)\n",
      "  (1): Sigmoid()\n",
      ")\n"
     ]
    }
   ],
   "source": [
    "model = nn.Sequential(nn.Linear(input_units, output_units), \n",
    "                      nn.Sigmoid())\n",
    "\n",
    "print(model)"
   ]
  },
  {
   "cell_type": "code",
   "execution_count": 16,
   "id": "5e534e85",
   "metadata": {},
   "outputs": [
    {
     "name": "stdout",
     "output_type": "stream",
     "text": [
      "MSELoss()\n"
     ]
    }
   ],
   "source": [
    "loss_funct = nn.MSELoss()\n",
    "print(loss_funct)"
   ]
  },
  {
   "cell_type": "code",
   "execution_count": 17,
   "id": "3380a239",
   "metadata": {},
   "outputs": [],
   "source": [
    "x = torch.randn(20,10)\n",
    "y = torch.randint(0,2, (20,1)).type(torch.FloatTensor)"
   ]
  },
  {
   "cell_type": "code",
   "execution_count": 18,
   "id": "63faac69",
   "metadata": {},
   "outputs": [
    {
     "data": {
      "text/plain": [
       "tensor([[ 5.6665e-01,  7.9351e-01,  5.9884e-01, -1.5551e+00, -3.4136e-01,\n",
       "          1.8530e+00,  4.6810e-01, -1.5771e-01, -1.7340e-01,  1.8348e-01],\n",
       "        [ 1.3894e+00,  1.5863e+00,  9.4630e-01, -8.4368e-01,  9.3183e-01,\n",
       "          1.2590e+00, -4.9268e-01,  2.4841e-01,  4.3970e-01,  1.1241e-01],\n",
       "        [ 6.4079e-01,  4.4116e-01, -2.1586e-01, -7.4255e-01, -2.8967e-01,\n",
       "          5.2507e-02,  5.2286e-01,  2.3022e+00, -1.4689e+00, -1.5867e+00],\n",
       "        [ 1.2032e+00,  8.4535e-02,  1.0554e+00,  1.7784e-01, -2.3034e-01,\n",
       "         -3.9175e-01,  5.4329e-01, -3.9516e-01,  2.0553e-01, -4.5033e-01],\n",
       "        [ 1.5210e+00,  3.4105e+00, -1.5312e+00, -1.2341e+00,  1.8197e+00,\n",
       "         -5.5153e-01, -1.3253e+00,  1.8855e-01,  1.1108e+00,  1.2899e+00],\n",
       "        [-1.4782e+00,  2.5672e+00, -4.7312e-01,  3.3555e-01,  1.5091e+00,\n",
       "          2.0820e+00, -4.7983e-01, -4.9968e-01, -1.0670e+00,  1.1149e+00],\n",
       "        [-1.4067e-01,  8.0575e-01,  3.2761e-01, -7.6071e-01, -8.3832e-01,\n",
       "          8.9182e-04,  8.4189e-01, -4.0003e-01,  1.0395e+00,  3.5815e-01],\n",
       "        [-3.3039e-03, -5.3444e-01, -1.8817e+00, -4.9727e-02, -1.0450e+00,\n",
       "         -9.5650e-01,  3.3532e-02,  7.1009e-01, -1.5353e+00, -4.1268e-01],\n",
       "        [ 3.4457e-01,  5.1987e-01, -2.6133e+00, -1.6965e+00, -2.2824e-01,\n",
       "          2.7995e-01,  7.3246e-02,  1.1133e+00,  3.3801e-01,  4.5440e-01],\n",
       "        [ 4.5694e-01, -8.6537e-01,  7.8131e-01, -9.2679e-01,  2.0642e-01,\n",
       "         -3.3345e-01, -7.2915e-02, -3.3986e-02,  9.6252e-01,  3.4917e-01],\n",
       "        [-9.2146e-01, -5.6195e-02, -7.0152e-01,  1.0367e+00,  1.9218e+00,\n",
       "         -4.0255e-01,  1.2390e-01,  1.1648e+00,  9.2337e-01,  1.3873e+00],\n",
       "        [ 1.3750e+00,  6.5963e-01, -8.0483e-01,  5.6561e-01,  6.1036e-01,\n",
       "          4.6688e-01,  1.9507e+00, -1.0631e+00,  1.1404e+00, -8.9882e-02],\n",
       "        [-5.9399e-01, -1.2439e+00, -1.0209e-01, -1.0335e+00, -3.1264e-01,\n",
       "          2.4579e-01,  3.7718e-01,  1.1012e+00,  2.4396e-01,  1.1646e+00],\n",
       "        [ 2.8858e-01,  3.8660e-01, -2.0106e-01, -1.1793e-01, -8.2937e-01,\n",
       "         -1.4073e+00, -1.9003e+00,  1.3068e-01, -7.0429e-01,  3.1472e-01],\n",
       "        [ 1.5739e-01,  3.8536e-01,  5.7365e-01,  9.9793e-01,  3.0161e-01,\n",
       "         -1.0732e-01,  9.9846e-01, -4.9871e-01,  7.6111e-01,  6.1830e-01],\n",
       "        [-2.9938e-01, -1.8778e-01, -1.2005e-01,  3.6046e-01, -3.1403e-01,\n",
       "         -1.0787e+00,  2.4081e-01, -1.3962e+00,  1.1355e-01,  1.1047e+00],\n",
       "        [-1.5616e+00, -3.5464e-01,  1.0811e+00,  1.3148e-01,  1.5735e+00,\n",
       "          7.8143e-01,  9.8744e-01, -1.4878e+00,  1.4708e+00,  2.7564e-01],\n",
       "        [ 6.6678e-01, -9.9439e-01, -1.1894e+00, -1.1959e+00,  1.3119e+00,\n",
       "         -2.0984e-01,  4.0689e-01,  3.9459e-01,  1.7151e-01,  8.7604e-01],\n",
       "        [-2.8709e-01,  1.0216e+00, -5.1107e-01, -1.7137e+00,  1.3384e+00,\n",
       "         -2.7941e-01, -5.5183e-01, -2.8891e+00, -1.5100e+00,  1.0241e+00],\n",
       "        [-3.4334e-01,  1.5713e+00,  1.7001e+00,  3.4622e-01,  9.7112e-01,\n",
       "          1.4503e+00, -5.1909e-02, -6.2843e-01, -1.4201e-01, -5.3415e-01]])"
      ]
     },
     "execution_count": 18,
     "metadata": {},
     "output_type": "execute_result"
    }
   ],
   "source": [
    "x"
   ]
  },
  {
   "cell_type": "code",
   "execution_count": 19,
   "id": "04c5537c",
   "metadata": {},
   "outputs": [
    {
     "data": {
      "text/plain": [
       "tensor([[0.],\n",
       "        [1.],\n",
       "        [1.],\n",
       "        [0.],\n",
       "        [1.],\n",
       "        [0.],\n",
       "        [0.],\n",
       "        [1.],\n",
       "        [0.],\n",
       "        [1.],\n",
       "        [1.],\n",
       "        [1.],\n",
       "        [1.],\n",
       "        [0.],\n",
       "        [0.],\n",
       "        [0.],\n",
       "        [1.],\n",
       "        [1.],\n",
       "        [1.],\n",
       "        [0.]])"
      ]
     },
     "execution_count": 19,
     "metadata": {},
     "output_type": "execute_result"
    }
   ],
   "source": [
    "y"
   ]
  },
  {
   "cell_type": "code",
   "execution_count": 21,
   "id": "1b465552",
   "metadata": {},
   "outputs": [],
   "source": [
    "import torch.optim as optim\n",
    "optimizer = optim.Adam(model.parameters(), lr=0.01)"
   ]
  },
  {
   "cell_type": "code",
   "execution_count": 22,
   "id": "6943f6b5",
   "metadata": {},
   "outputs": [
    {
     "name": "stdout",
     "output_type": "stream",
     "text": [
      "0 0.2548362612724304\n",
      "5 0.23986327648162842\n",
      "10 0.2267436981201172\n",
      "15 0.21494774520397186\n"
     ]
    }
   ],
   "source": [
    "losses = []\n",
    "for i in range(20):\n",
    "    y_pred = model(x)\n",
    "    loss = loss_funct(y_pred, y)\n",
    "    losses.append(loss.item())\n",
    "    optimizer.zero_grad()\n",
    "    loss.backward()\n",
    "    optimizer.step()\n",
    "    \n",
    "    if i%5 == 0:\n",
    "        print(i, loss.item())"
   ]
  },
  {
   "cell_type": "code",
   "execution_count": 23,
   "id": "3a03bc82",
   "metadata": {},
   "outputs": [
    {
     "data": {
      "image/png": "[encoded data removed]",
      "text/plain": [
       "<Figure size 432x288 with 1 Axes>"
      ]
     },
     "metadata": {
      "needs_background": "light"
     },
     "output_type": "display_data"
    }
   ],
   "source": [
    "plt.plot(range(0,20), losses)\n",
    "plt.show()"
   ]
  },
  {
   "cell_type": "code",
   "execution_count": null,
   "id": "c11c4184",
   "metadata": {},
   "outputs": [],
   "source": []
  }
 ],
 "metadata": {
  "kernelspec": {
   "display_name": "Python 3 (ipykernel)",
   "language": "python",
   "name": "python3"
  },
  "language_info": {
   "codemirror_mode": {
    "name": "ipython",
    "version": 3
   },
   "file_extension": ".py",
   "mimetype": "text/x-python",
   "name": "python",
   "nbconvert_exporter": "python",
   "pygments_lexer": "ipython3",
   "version": "3.9.6"
  }
 },
 "nbformat": 4,
 "nbformat_minor": 5
}
