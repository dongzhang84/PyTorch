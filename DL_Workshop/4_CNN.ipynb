{
 "cells": [
  {
   "cell_type": "code",
   "execution_count": 1,
   "id": "d877c041",
   "metadata": {},
   "outputs": [],
   "source": [
    "import numpy as np\n",
    "import torch\n",
    "from torch import nn, optim\n",
    "import torch.nn.functional as F\n",
    "from torchvision import datasets\n",
    "import torchvision.transforms as transforms\n",
    "from torch.utils.data.sampler import SubsetRandomSampler\n",
    "from sklearn.metrics import accuracy_score\n",
    "import matplotlib.pyplot as plt"
   ]
  },
  {
   "cell_type": "code",
   "execution_count": 2,
   "id": "c0bbd3ba",
   "metadata": {},
   "outputs": [],
   "source": [
    "transform = transforms.Compose([transforms.ToTensor(), transforms.Normalize((0.5, 0.5, 0.5), (0.5, 0.5, 0.5))])"
   ]
  },
  {
   "cell_type": "code",
   "execution_count": 3,
   "id": "e1ed4c07",
   "metadata": {},
   "outputs": [
    {
     "name": "stdout",
     "output_type": "stream",
     "text": [
      "Downloading https://www.cs.toronto.edu/~kriz/cifar-10-python.tar.gz to data/cifar-10-python.tar.gz\n"
     ]
    },
    {
     "data": {
      "application/vnd.jupyter.widget-view+json": {
       "model_id": "edb717cc08d44f15bb39719931d4e3c5",
       "version_major": 2,
       "version_minor": 0
      },
      "text/plain": [
       "  0%|          | 0/170498071 [00:00<?, ?it/s]"
      ]
     },
     "metadata": {},
     "output_type": "display_data"
    },
    {
     "name": "stdout",
     "output_type": "stream",
     "text": [
      "Extracting data/cifar-10-python.tar.gz to data\n",
      "Files already downloaded and verified\n"
     ]
    }
   ],
   "source": [
    "batch_size = 100\n",
    "\n",
    "train_data = datasets.CIFAR10('data', train=True, download=True, transform=transform)\n",
    "test_data = datasets.CIFAR10('data', train=False, download=True, transform=transform)"
   ]
  },
  {
   "cell_type": "code",
   "execution_count": 4,
   "id": "6aabf1cb",
   "metadata": {},
   "outputs": [],
   "source": [
    "dev_size = 0.2\n",
    "idx = list(range(len(train_data)))\n",
    "np.random.shuffle(idx)\n",
    "split_size = int(np.floor(dev_size * len(train_data)))\n",
    "train_idx, dev_idx = idx[split_size:], idx[:split_size]\n",
    "\n",
    "train_sampler = SubsetRandomSampler(train_idx)\n",
    "dev_sampler = SubsetRandomSampler(dev_idx)"
   ]
  },
  {
   "cell_type": "code",
   "execution_count": 5,
   "id": "7ac5fde2",
   "metadata": {},
   "outputs": [],
   "source": [
    "train_loader = torch.utils.data.DataLoader(train_data, batch_size=batch_size, sampler=train_sampler)\n",
    "dev_loader = torch.utils.data.DataLoader(train_data, batch_size=batch_size, sampler=dev_sampler)\n",
    "test_loader = torch.utils.data.DataLoader(test_data, batch_size=batch_size)"
   ]
  },
  {
   "cell_type": "code",
   "execution_count": 6,
   "id": "db394362",
   "metadata": {},
   "outputs": [],
   "source": [
    "class CNN(nn.Module):\n",
    "    def __init__(self):\n",
    "        super(CNN, self).__init__()\n",
    "        self.conv1 = nn.Conv2d(3, 10, 3, 1, 1)\n",
    "        self.conv2 = nn.Conv2d(10, 20, 3, 1, 1)\n",
    "        self.conv3 = nn.Conv2d(20, 40, 3, 1, 1)\n",
    "        self.pool = nn.MaxPool2d(2, 2)\n",
    "        \n",
    "        self.linear1 = nn.Linear(40 * 4 * 4, 100)\n",
    "        self.linear2 = nn.Linear(100, 10)\n",
    "        self.dropout = nn.Dropout(0.2)\n",
    "\n",
    "    def forward(self, x):\n",
    "        x = self.pool(F.relu(self.conv1(x)))\n",
    "        x = self.pool(F.relu(self.conv2(x)))\n",
    "        x = self.pool(F.relu(self.conv3(x)))\n",
    "        \n",
    "        x = x.view(-1, 40 * 4 * 4)\n",
    "        x = self.dropout(x)\n",
    "        x = F.relu(self.linear1(x))\n",
    "        x = self.dropout(x)\n",
    "        x = F.log_softmax(self.linear2(x), dim=1)\n",
    "        \n",
    "        return x"
   ]
  },
  {
   "cell_type": "code",
   "execution_count": 7,
   "id": "baca409d",
   "metadata": {},
   "outputs": [],
   "source": [
    "model = CNN()\n",
    "loss_function = nn.NLLLoss()\n",
    "optimizer = optim.Adam(model.parameters(), lr=0.001)\n",
    "epochs = 50"
   ]
  },
  {
   "cell_type": "code",
   "execution_count": 9,
   "id": "23f745a3",
   "metadata": {},
   "outputs": [
    {
     "name": "stdout",
     "output_type": "stream",
     "text": [
      "Epoch: 1/50..  Training Loss: 1.587..  Validation Loss: 1.448..  Training Accuracy: 0.420..  Validation Accuracy: 0.474\n",
      "Epoch: 5/50..  Training Loss: 1.176..  Validation Loss: 1.142..  Training Accuracy: 0.580..  Validation Accuracy: 0.592\n",
      "Epoch: 10/50..  Training Loss: 0.967..  Validation Loss: 0.947..  Training Accuracy: 0.659..  Validation Accuracy: 0.666\n",
      "Epoch: 15/50..  Training Loss: 0.857..  Validation Loss: 0.899..  Training Accuracy: 0.698..  Validation Accuracy: 0.682\n",
      "Epoch: 20/50..  Training Loss: 0.785..  Validation Loss: 0.851..  Training Accuracy: 0.722..  Validation Accuracy: 0.708\n",
      "Epoch: 25/50..  Training Loss: 0.728..  Validation Loss: 0.845..  Training Accuracy: 0.740..  Validation Accuracy: 0.709\n",
      "Epoch: 30/50..  Training Loss: 0.687..  Validation Loss: 0.849..  Training Accuracy: 0.752..  Validation Accuracy: 0.716\n",
      "Epoch: 35/50..  Training Loss: 0.653..  Validation Loss: 0.840..  Training Accuracy: 0.764..  Validation Accuracy: 0.712\n",
      "Epoch: 40/50..  Training Loss: 0.629..  Validation Loss: 0.838..  Training Accuracy: 0.773..  Validation Accuracy: 0.719\n",
      "Epoch: 45/50..  Training Loss: 0.611..  Validation Loss: 0.833..  Training Accuracy: 0.780..  Validation Accuracy: 0.722\n",
      "Epoch: 50/50..  Training Loss: 0.587..  Validation Loss: 0.850..  Training Accuracy: 0.787..  Validation Accuracy: 0.711\n",
      "CPU times: user 24min 26s, sys: 5min 18s, total: 29min 45s\n",
      "Wall time: 20min 7s\n"
     ]
    }
   ],
   "source": [
    "%%time\n",
    "\n",
    "train_losses, dev_losses, train_acc, dev_acc= [], [], [], []\n",
    "x_axis = []\n",
    "\n",
    "for e in range(1, epochs+1):\n",
    "    losses = 0\n",
    "    acc = 0\n",
    "    iterations = 0\n",
    "    \n",
    "    model.train()\n",
    "    for data, target in train_loader:\n",
    "        iterations += 1\n",
    "\n",
    "        pred = model(data)\n",
    "        loss = loss_function(pred, target)\n",
    "        optimizer.zero_grad()\n",
    "        loss.backward()\n",
    "        optimizer.step()\n",
    "        \n",
    "        losses += loss.item()\n",
    "        p = torch.exp(pred)\n",
    "        top_p, top_class = p.topk(1, dim=1)\n",
    "        acc += accuracy_score(target, top_class)\n",
    "        \n",
    "    dev_losss = 0\n",
    "    dev_accs = 0\n",
    "    iter_2 = 0\n",
    "        \n",
    "    if e%5 == 0 or e == 1:\n",
    "        x_axis.append(e)\n",
    "        \n",
    "        with torch.no_grad():\n",
    "            model.eval()\n",
    "            \n",
    "            for data_dev, target_dev in dev_loader:\n",
    "                iter_2 += 1\n",
    "                \n",
    "                dev_pred = model(data_dev)\n",
    "                dev_loss = loss_function(dev_pred, target_dev)\n",
    "                dev_losss += dev_loss.item()\n",
    "\n",
    "                dev_p = torch.exp(dev_pred)\n",
    "                top_p, dev_top_class = dev_p.topk(1, dim=1)\n",
    "                dev_accs += accuracy_score(target_dev, dev_top_class)\n",
    "        \n",
    "        train_losses.append(losses/iterations)\n",
    "        dev_losses.append(dev_losss/iter_2)\n",
    "        train_acc.append(acc/iterations)\n",
    "        dev_acc.append(dev_accs/iter_2)\n",
    "        \n",
    "        print(\"Epoch: {}/{}.. \".format(e, epochs),\n",
    "              \"Training Loss: {:.3f}.. \".format(losses/iterations),\n",
    "              \"Validation Loss: {:.3f}.. \".format(dev_losss/iter_2),\n",
    "              \"Training Accuracy: {:.3f}.. \".format(acc/iterations),\n",
    "              \"Validation Accuracy: {:.3f}\".format(dev_accs/iter_2))"
   ]
  },
  {
   "cell_type": "code",
   "execution_count": 10,
   "id": "c9f2dcce",
   "metadata": {},
   "outputs": [
    {
     "data": {
      "image/png": "[encoded data removed]",
      "text/plain": [
       "<Figure size 432x288 with 1 Axes>"
      ]
     },
     "metadata": {
      "needs_background": "light"
     },
     "output_type": "display_data"
    }
   ],
   "source": [
    "plt.plot(x_axis,train_losses, label='Training loss')\n",
    "plt.plot(x_axis, dev_losses, label='Validation loss')\n",
    "plt.legend(frameon=False)\n",
    "plt.show()"
   ]
  },
  {
   "cell_type": "code",
   "execution_count": 11,
   "id": "efcd0eeb",
   "metadata": {},
   "outputs": [
    {
     "data": {
      "image/png": "[encoded data removed]",
      "text/plain": [
       "<Figure size 432x288 with 1 Axes>"
      ]
     },
     "metadata": {
      "needs_background": "light"
     },
     "output_type": "display_data"
    }
   ],
   "source": [
    "plt.plot(x_axis, train_acc, label=\"Training accuracy\")\n",
    "plt.plot(x_axis, dev_acc, label=\"Validation accuracy\")\n",
    "plt.legend(frameon=False)\n",
    "plt.show()"
   ]
  },
  {
   "cell_type": "code",
   "execution_count": 12,
   "id": "f2058b2f",
   "metadata": {},
   "outputs": [
    {
     "name": "stdout",
     "output_type": "stream",
     "text": [
      "0.7140000000000005\n"
     ]
    }
   ],
   "source": [
    "model.eval()\n",
    "iter_3 = 0\n",
    "acc_test = 0\n",
    "for data_test, target_test in test_loader:\n",
    "    iter_3 += 1\n",
    "    test_pred = model(data_test)\n",
    "    test_pred = torch.exp(test_pred)\n",
    "    top_p, top_class_test = test_pred.topk(1, dim=1)\n",
    "    acc_test += accuracy_score(target_test, top_class_test)\n",
    "print(acc_test/iter_3)"
   ]
  },
  {
   "cell_type": "markdown",
   "id": "2af57b0d",
   "metadata": {},
   "source": [
    "## Second Model"
   ]
  },
  {
   "cell_type": "code",
   "execution_count": 13,
   "id": "fbe27344",
   "metadata": {},
   "outputs": [],
   "source": [
    "class CNN(nn.Module):\n",
    "    def __init__(self):\n",
    "        super(CNN, self).__init__()\n",
    "        self.conv1 = nn.Conv2d(3, 10, 3, 1, 1)\n",
    "        self.norm1 = nn.BatchNorm2d(10)\n",
    "        self.conv2 = nn.Conv2d(10, 20, 3, 1, 1)\n",
    "        self.norm2 = nn.BatchNorm2d(20)\n",
    "        self.conv3 = nn.Conv2d(20, 40, 3, 1, 1)\n",
    "        self.norm3 = nn.BatchNorm2d(40)\n",
    "        self.pool = nn.MaxPool2d(2, 2)\n",
    "        \n",
    "        self.linear1 = nn.Linear(40 * 4 * 4, 100)\n",
    "        self.norm4 = nn.BatchNorm1d(100)\n",
    "        self.linear2 = nn.Linear(100, 10)\n",
    "        self.dropout = nn.Dropout(0.2)\n",
    "\n",
    "    def forward(self, x):\n",
    "        x = self.pool(self.norm1(F.relu(self.conv1(x))))\n",
    "        x = self.pool(self.norm2(F.relu(self.conv2(x))))\n",
    "        x = self.pool(self.norm3(F.relu(self.conv3(x))))\n",
    "\n",
    "        x = x.view(-1, 40 * 4 * 4)\n",
    "        x = self.dropout(x)\n",
    "        x = self.norm4(F.relu(self.linear1(x)))\n",
    "        x = self.dropout(x)\n",
    "        x = F.log_softmax(self.linear2(x), dim=1)\n",
    "        \n",
    "        return x"
   ]
  },
  {
   "cell_type": "code",
   "execution_count": 16,
   "id": "df575cb0",
   "metadata": {},
   "outputs": [],
   "source": [
    "model = CNN()\n",
    "loss_function = nn.NLLLoss()\n",
    "optimizer = optim.Adam(model.parameters(), lr=0.001)\n",
    "epochs = 50"
   ]
  },
  {
   "cell_type": "code",
   "execution_count": 17,
   "id": "ab86fadc",
   "metadata": {},
   "outputs": [
    {
     "name": "stdout",
     "output_type": "stream",
     "text": [
      "Epoch: 1/50..  Training Loss: 1.432..  Validation Loss: 1.197..  Training Accuracy: 0.487..  Validation Accuracy: 0.577\n",
      "Epoch: 5/50..  Training Loss: 0.872..  Validation Loss: 0.858..  Training Accuracy: 0.692..  Validation Accuracy: 0.701\n",
      "Epoch: 10/50..  Training Loss: 0.709..  Validation Loss: 0.791..  Training Accuracy: 0.749..  Validation Accuracy: 0.727\n",
      "Epoch: 15/50..  Training Loss: 0.625..  Validation Loss: 0.771..  Training Accuracy: 0.779..  Validation Accuracy: 0.736\n",
      "Epoch: 20/50..  Training Loss: 0.575..  Validation Loss: 0.761..  Training Accuracy: 0.797..  Validation Accuracy: 0.742\n",
      "Epoch: 25/50..  Training Loss: 0.543..  Validation Loss: 0.761..  Training Accuracy: 0.806..  Validation Accuracy: 0.748\n",
      "Epoch: 30/50..  Training Loss: 0.511..  Validation Loss: 0.778..  Training Accuracy: 0.818..  Validation Accuracy: 0.744\n",
      "Epoch: 35/50..  Training Loss: 0.483..  Validation Loss: 0.778..  Training Accuracy: 0.826..  Validation Accuracy: 0.746\n",
      "Epoch: 40/50..  Training Loss: 0.468..  Validation Loss: 0.766..  Training Accuracy: 0.833..  Validation Accuracy: 0.750\n",
      "Epoch: 45/50..  Training Loss: 0.455..  Validation Loss: 0.798..  Training Accuracy: 0.836..  Validation Accuracy: 0.741\n",
      "Epoch: 50/50..  Training Loss: 0.444..  Validation Loss: 0.781..  Training Accuracy: 0.839..  Validation Accuracy: 0.751\n",
      "CPU times: user 30min 18s, sys: 6min 27s, total: 36min 46s\n",
      "Wall time: 21min 40s\n"
     ]
    }
   ],
   "source": [
    "%%time\n",
    "\n",
    "train_losses, dev_losses, train_acc, dev_acc= [], [], [], []\n",
    "x_axis = []\n",
    "\n",
    "for e in range(1, epochs+1):\n",
    "    losses = 0\n",
    "    acc = 0\n",
    "    iterations = 0\n",
    "    \n",
    "    model.train()\n",
    "    for data, target in train_loader:\n",
    "        iterations += 1\n",
    "\n",
    "        pred = model(data)\n",
    "        loss = loss_function(pred, target)\n",
    "        optimizer.zero_grad()\n",
    "        loss.backward()\n",
    "        optimizer.step()\n",
    "        \n",
    "        losses += loss.item()\n",
    "        p = torch.exp(pred)\n",
    "        top_p, top_class = p.topk(1, dim=1)\n",
    "        acc += accuracy_score(target, top_class)\n",
    "        \n",
    "    dev_losss = 0\n",
    "    dev_accs = 0\n",
    "    iter_2 = 0\n",
    "        \n",
    "    if e%5 == 0 or e == 1:\n",
    "        x_axis.append(e)\n",
    "        \n",
    "        with torch.no_grad():\n",
    "            model.eval()\n",
    "            \n",
    "            for data_dev, target_dev in dev_loader:\n",
    "                iter_2 += 1\n",
    "                \n",
    "                dev_pred = model(data_dev)\n",
    "                dev_loss = loss_function(dev_pred, target_dev)\n",
    "                dev_losss += dev_loss.item()\n",
    "\n",
    "                dev_p = torch.exp(dev_pred)\n",
    "                top_p, dev_top_class = dev_p.topk(1, dim=1)\n",
    "                dev_accs += accuracy_score(target_dev, dev_top_class)\n",
    "        \n",
    "        train_losses.append(losses/iterations)\n",
    "        dev_losses.append(dev_losss/iter_2)\n",
    "        train_acc.append(acc/iterations)\n",
    "        dev_acc.append(dev_accs/iter_2)\n",
    "        \n",
    "        print(\"Epoch: {}/{}.. \".format(e, epochs),\n",
    "              \"Training Loss: {:.3f}.. \".format(losses/iterations),\n",
    "              \"Validation Loss: {:.3f}.. \".format(dev_losss/iter_2),\n",
    "              \"Training Accuracy: {:.3f}.. \".format(acc/iterations),\n",
    "              \"Validation Accuracy: {:.3f}\".format(dev_accs/iter_2))"
   ]
  },
  {
   "cell_type": "code",
   "execution_count": 18,
   "id": "04499a7b",
   "metadata": {},
   "outputs": [
    {
     "data": {
      "image/png": "[encoded data removed]",
      "text/plain": [
       "<Figure size 432x288 with 1 Axes>"
      ]
     },
     "metadata": {
      "needs_background": "light"
     },
     "output_type": "display_data"
    }
   ],
   "source": [
    "plt.plot(x_axis,train_losses, label='Training loss')\n",
    "plt.plot(x_axis, dev_losses, label='Validation loss')\n",
    "plt.legend(frameon=False)\n",
    "plt.show()"
   ]
  },
  {
   "cell_type": "code",
   "execution_count": 19,
   "id": "da512a2f",
   "metadata": {},
   "outputs": [
    {
     "data": {
      "image/png": "[encoded data removed]",
      "text/plain": [
       "<Figure size 432x288 with 1 Axes>"
      ]
     },
     "metadata": {
      "needs_background": "light"
     },
     "output_type": "display_data"
    }
   ],
   "source": [
    "plt.plot(x_axis, train_acc, label=\"Training accuracy\")\n",
    "plt.plot(x_axis, dev_acc, label=\"Validation accuracy\")\n",
    "plt.legend(frameon=False)\n",
    "plt.show()"
   ]
  },
  {
   "cell_type": "code",
   "execution_count": 20,
   "id": "f577b1f9",
   "metadata": {},
   "outputs": [
    {
     "name": "stdout",
     "output_type": "stream",
     "text": [
      "0.7445999999999997\n"
     ]
    }
   ],
   "source": [
    "model.eval()\n",
    "iter_3 = 0\n",
    "acc_test = 0\n",
    "for data_test, target_test in test_loader:\n",
    "    iter_3 += 1\n",
    "    test_pred = model(data_test)\n",
    "    test_pred = torch.exp(test_pred)\n",
    "    top_p, top_class_test = test_pred.topk(1, dim=1)\n",
    "    acc_test += accuracy_score(target_test, top_class_test)\n",
    "print(acc_test/iter_3)"
   ]
  },
  {
   "cell_type": "code",
   "execution_count": null,
   "id": "feb9b5f2",
   "metadata": {},
   "outputs": [],
   "source": []
  }
 ],
 "metadata": {
  "kernelspec": {
   "display_name": "Python 3 (ipykernel)",
   "language": "python",
   "name": "python3"
  },
  "language_info": {
   "codemirror_mode": {
    "name": "ipython",
    "version": 3
   },
   "file_extension": ".py",
   "mimetype": "text/x-python",
   "name": "python",
   "nbconvert_exporter": "python",
   "pygments_lexer": "ipython3",
   "version": "3.9.6"
  }
 },
 "nbformat": 4,
 "nbformat_minor": 5
}
