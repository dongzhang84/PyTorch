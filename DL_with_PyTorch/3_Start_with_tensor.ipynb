{
 "cells": [
  {
   "cell_type": "markdown",
   "id": "ad8c552f",
   "metadata": {},
   "source": [
    "# Tensor Introduction\n",
    "\n",
    "https://github.com/deep-learning-with-pytorch/dlwpt-code/blob/master/p1ch3/1_tensors.ipynb"
   ]
  },
  {
   "cell_type": "code",
   "execution_count": 1,
   "id": "fc605c25",
   "metadata": {},
   "outputs": [],
   "source": [
    "a = [1.0, 2.0, 1.0]"
   ]
  },
  {
   "cell_type": "code",
   "execution_count": 2,
   "id": "bf179f4c",
   "metadata": {},
   "outputs": [
    {
     "data": {
      "text/plain": [
       "tensor([1., 1., 1.])"
      ]
     },
     "execution_count": 2,
     "metadata": {},
     "output_type": "execute_result"
    }
   ],
   "source": [
    "import torch # <1>\n",
    "a = torch.ones(3) # <2>\n",
    "a"
   ]
  },
  {
   "cell_type": "code",
   "execution_count": 3,
   "id": "39dcc59b",
   "metadata": {},
   "outputs": [],
   "source": [
    "points = torch.zeros(6) # <1>\n",
    "points[0] = 4.0 # <2>\n",
    "points[1] = 1.0\n",
    "points[2] = 5.0\n",
    "points[3] = 3.0\n",
    "points[4] = 2.0\n",
    "points[5] = 1.0"
   ]
  },
  {
   "cell_type": "code",
   "execution_count": 4,
   "id": "8419e857",
   "metadata": {},
   "outputs": [
    {
     "data": {
      "text/plain": [
       "tensor([4., 1., 5., 3., 2., 1.])"
      ]
     },
     "execution_count": 4,
     "metadata": {},
     "output_type": "execute_result"
    }
   ],
   "source": [
    "points = torch.tensor([4.0, 1.0, 5.0, 3.0, 2.0, 1.0])\n",
    "points"
   ]
  },
  {
   "cell_type": "code",
   "execution_count": 5,
   "id": "3bde1f76",
   "metadata": {},
   "outputs": [
    {
     "data": {
      "text/plain": [
       "tensor([[4., 1.],\n",
       "        [5., 3.],\n",
       "        [2., 1.]])"
      ]
     },
     "execution_count": 5,
     "metadata": {},
     "output_type": "execute_result"
    }
   ],
   "source": [
    "points = torch.tensor([[4.0, 1.0], [5.0, 3.0], [2.0, 1.0]])\n",
    "points"
   ]
  },
  {
   "cell_type": "code",
   "execution_count": 6,
   "id": "5fcdb6a6",
   "metadata": {},
   "outputs": [
    {
     "data": {
      "text/plain": [
       "torch.Size([3, 2])"
      ]
     },
     "execution_count": 6,
     "metadata": {},
     "output_type": "execute_result"
    }
   ],
   "source": [
    "points.shape"
   ]
  },
  {
   "cell_type": "code",
   "execution_count": 7,
   "id": "fbf2d198",
   "metadata": {},
   "outputs": [
    {
     "data": {
      "text/plain": [
       "tensor([[0., 0.],\n",
       "        [0., 0.],\n",
       "        [0., 0.]])"
      ]
     },
     "execution_count": 7,
     "metadata": {},
     "output_type": "execute_result"
    }
   ],
   "source": [
    "points = torch.zeros(3, 2)\n",
    "points"
   ]
  },
  {
   "cell_type": "code",
   "execution_count": 8,
   "id": "b0663ed0",
   "metadata": {},
   "outputs": [
    {
     "data": {
      "text/plain": [
       "tensor(0.)"
      ]
     },
     "execution_count": 8,
     "metadata": {},
     "output_type": "execute_result"
    }
   ],
   "source": [
    "points[0, 1]"
   ]
  },
  {
   "cell_type": "code",
   "execution_count": 9,
   "id": "526c1072",
   "metadata": {},
   "outputs": [
    {
     "data": {
      "text/plain": [
       "tensor(0.)"
      ]
     },
     "execution_count": 9,
     "metadata": {},
     "output_type": "execute_result"
    }
   ],
   "source": [
    "points[1, 1]"
   ]
  },
  {
   "cell_type": "code",
   "execution_count": 10,
   "id": "e3d24bd3",
   "metadata": {},
   "outputs": [
    {
     "data": {
      "text/plain": [
       " 4.0\n",
       " 1.0\n",
       " 5.0\n",
       " 3.0\n",
       " 2.0\n",
       " 1.0\n",
       "[torch.FloatStorage of size 6]"
      ]
     },
     "execution_count": 10,
     "metadata": {},
     "output_type": "execute_result"
    }
   ],
   "source": [
    "points = torch.tensor([[4.0, 1.0], [5.0, 3.0], [2.0, 1.0]])\n",
    "points.storage()"
   ]
  },
  {
   "cell_type": "markdown",
   "id": "9d33cc45",
   "metadata": {},
   "source": [
    "# Named Tensor"
   ]
  },
  {
   "cell_type": "code",
   "execution_count": 11,
   "id": "8933616d",
   "metadata": {},
   "outputs": [],
   "source": [
    "img_t = torch.randn(3, 5, 5) # shape [channels, rows, columns]\n",
    "weights = torch.tensor([0.2126, 0.7152, 0.0722])"
   ]
  },
  {
   "cell_type": "code",
   "execution_count": 14,
   "id": "9bd8e37b",
   "metadata": {},
   "outputs": [
    {
     "data": {
      "text/plain": [
       "tensor([[[ 0.2091, -0.4634, -4.0032, -0.2158, -0.8116],\n",
       "         [-1.2628,  1.1057,  1.3183, -0.9460, -0.0710],\n",
       "         [-0.8744,  0.7402,  0.4206,  0.1479,  1.5134],\n",
       "         [ 0.5543,  1.3379, -0.4794,  0.8422,  0.1110],\n",
       "         [-0.5088, -1.1244,  1.1428,  0.1934, -0.6280]],\n",
       "\n",
       "        [[ 0.5814,  0.1230, -0.2401, -1.3123, -0.4516],\n",
       "         [-0.7238, -0.4005,  1.6725,  0.1984,  0.0900],\n",
       "         [-0.2762,  1.2459,  1.1366, -0.8478, -0.3007],\n",
       "         [-1.5494,  0.8419, -0.6327, -0.6649,  1.1059],\n",
       "         [ 1.2431,  1.0401,  0.8625,  2.0261, -1.4864]],\n",
       "\n",
       "        [[ 0.1594, -0.1486, -1.4759, -2.1488, -0.7030],\n",
       "         [ 0.3402,  0.0172, -0.2079, -0.6072,  0.7271],\n",
       "         [ 0.5710,  0.4882,  0.8633,  0.4652, -0.0490],\n",
       "         [ 0.0876, -0.7196,  0.6952,  0.1020,  0.1255],\n",
       "         [-1.2417, -1.0542, -0.0604,  1.5967, -0.2223]]])"
      ]
     },
     "execution_count": 14,
     "metadata": {},
     "output_type": "execute_result"
    }
   ],
   "source": [
    "img_t"
   ]
  },
  {
   "cell_type": "code",
   "execution_count": 15,
   "id": "2af9b6b2",
   "metadata": {},
   "outputs": [
    {
     "data": {
      "text/plain": [
       "tensor([[[[ 0.2251,  0.5912,  1.0839, -1.3302,  2.4715],\n",
       "          [-0.0637, -0.3310,  1.3248,  1.8601, -0.8509],\n",
       "          [-0.8322, -1.3945,  0.9548, -1.4095,  0.7941],\n",
       "          [ 2.0767,  0.6913,  0.1778,  1.4430, -0.1810],\n",
       "          [ 0.3799,  0.6428, -0.9510, -0.2213, -0.2073]],\n",
       "\n",
       "         [[-0.2179, -0.4666,  0.8641,  0.0151,  0.4984],\n",
       "          [ 0.5257, -1.7669, -0.0228, -0.8556,  0.2386],\n",
       "          [-0.3826,  1.0306, -0.9216, -0.0596,  0.0536],\n",
       "          [ 0.0343,  0.3503, -0.4122, -0.9815,  0.0843],\n",
       "          [ 1.6070,  0.7835, -0.2080, -1.1080, -0.0315]],\n",
       "\n",
       "         [[-1.1210,  0.2930,  0.2592,  0.3597, -0.8339],\n",
       "          [ 0.5963,  0.7622, -0.6031, -0.2334, -0.2561],\n",
       "          [ 0.4124, -0.4886, -0.5745, -1.5889,  1.0544],\n",
       "          [-1.3110, -0.5619, -0.6066,  1.6605, -0.3584],\n",
       "          [ 0.8617, -0.3173,  0.6006,  0.5018,  0.5039]]],\n",
       "\n",
       "\n",
       "        [[[ 0.7048,  2.7907,  0.3522, -0.7582, -0.6000],\n",
       "          [ 0.8157, -1.4323, -0.3740, -0.7603, -0.2251],\n",
       "          [-1.2126,  1.4613, -1.2347,  0.3033, -0.1828],\n",
       "          [-2.4581,  1.2016, -0.7609,  1.3885,  0.9200],\n",
       "          [-0.4106, -0.2406,  0.2514,  1.1108, -2.4900]],\n",
       "\n",
       "         [[-2.0532,  0.4064, -0.2456, -0.3466, -0.0629],\n",
       "          [ 0.0801, -2.2344,  1.0986,  0.8378,  1.2431],\n",
       "          [-0.9458, -0.1090, -0.5910, -0.1727,  0.0066],\n",
       "          [ 0.0287, -0.3227,  1.5952,  0.6797, -1.4151],\n",
       "          [ 1.3179,  1.5792,  0.7858,  0.7097, -0.2668]],\n",
       "\n",
       "         [[-0.3901, -0.3224, -0.3665, -0.4864, -0.7774],\n",
       "          [ 1.4529, -0.6418, -0.4264, -0.5372, -1.8453],\n",
       "          [-1.1209,  0.3991,  0.2304,  0.9317,  0.9881],\n",
       "          [-0.5941,  0.2511,  0.7753, -1.4150,  0.0514],\n",
       "          [ 0.4889,  0.1787,  0.1210, -1.3304,  0.3263]]]])"
      ]
     },
     "execution_count": 15,
     "metadata": {},
     "output_type": "execute_result"
    }
   ],
   "source": [
    "batch_t = torch.randn(2, 3, 5, 5)\n",
    "batch_t"
   ]
  },
  {
   "cell_type": "code",
   "execution_count": 16,
   "id": "96ce914b",
   "metadata": {},
   "outputs": [
    {
     "data": {
      "text/plain": [
       "tensor([[ 0.3166, -0.1630, -1.9064, -1.2256, -0.6554],\n",
       "        [-0.5488,  0.2408,  0.9276, -0.4516,  0.2487],\n",
       "        [-0.1932,  0.8248,  0.8068, -0.0783,  0.3879],\n",
       "        [-0.3025,  0.4867, -0.1390,  0.0931,  0.4475],\n",
       "        [-0.1691, -0.3795,  0.6483,  1.2721, -0.7789]])"
      ]
     },
     "execution_count": 16,
     "metadata": {},
     "output_type": "execute_result"
    }
   ],
   "source": [
    "img_t.mean(-3)"
   ]
  },
  {
   "cell_type": "code",
   "execution_count": 17,
   "id": "299381c1",
   "metadata": {},
   "outputs": [
    {
     "data": {
      "text/plain": [
       "tensor([[[-0.3713,  0.1392,  0.7357, -0.3185,  0.7120],\n",
       "         [ 0.3528, -0.4452,  0.2330,  0.2570, -0.2895],\n",
       "         [-0.2674, -0.2842, -0.1804, -1.0193,  0.6340],\n",
       "         [ 0.2667,  0.1599, -0.2804,  0.7073, -0.1517],\n",
       "         [ 0.9496,  0.3697, -0.1861, -0.2759,  0.0883]],\n",
       "\n",
       "        [[-0.5795,  0.9582, -0.0866, -0.5304, -0.4801],\n",
       "         [ 0.7829, -1.4362,  0.0994, -0.1532, -0.2758],\n",
       "         [-1.0931,  0.5838, -0.5318,  0.3541,  0.2707],\n",
       "         [-1.0078,  0.3767,  0.5365,  0.2177, -0.1479],\n",
       "         [ 0.4654,  0.5058,  0.3861,  0.1634, -0.8101]]])"
      ]
     },
     "execution_count": 17,
     "metadata": {},
     "output_type": "execute_result"
    }
   ],
   "source": [
    "batch_t.mean(-3)"
   ]
  },
  {
   "cell_type": "code",
   "execution_count": 20,
   "id": "afc649e6",
   "metadata": {},
   "outputs": [
    {
     "data": {
      "text/plain": [
       "tensor([[[0.2126]],\n",
       "\n",
       "        [[0.7152]],\n",
       "\n",
       "        [[0.0722]]])"
      ]
     },
     "execution_count": 20,
     "metadata": {},
     "output_type": "execute_result"
    }
   ],
   "source": [
    "unsqueezed_weights = weights.unsqueeze(-1).unsqueeze_(-1)\n",
    "unsqueezed_weights"
   ]
  },
  {
   "cell_type": "code",
   "execution_count": 21,
   "id": "11bc834a",
   "metadata": {},
   "outputs": [
    {
     "data": {
      "text/plain": [
       "(torch.Size([2, 3, 5, 5]), torch.Size([2, 3, 5, 5]), torch.Size([3, 1, 1]))"
      ]
     },
     "execution_count": 21,
     "metadata": {},
     "output_type": "execute_result"
    }
   ],
   "source": [
    "img_weights = (img_t * unsqueezed_weights)\n",
    "batch_weights = (batch_t * unsqueezed_weights)\n",
    "img_gray_weighted = img_weights.sum(-3)\n",
    "batch_gray_weighted = batch_weights.sum(-3)\n",
    "batch_weights.shape, batch_t.shape, unsqueezed_weights.shape"
   ]
  },
  {
   "cell_type": "code",
   "execution_count": 22,
   "id": "1ab53390",
   "metadata": {},
   "outputs": [
    {
     "name": "stdout",
     "output_type": "stream",
     "text": [
      "img named: torch.Size([3, 5, 5]) ('channels', 'rows', 'columns')\n",
      "batch named: torch.Size([2, 3, 5, 5]) (None, 'channels', 'rows', 'columns')\n"
     ]
    },
    {
     "name": "stderr",
     "output_type": "stream",
     "text": [
      "/Library/Frameworks/Python.framework/Versions/3.9/lib/python3.9/site-packages/torch/_tensor.py:780: UserWarning: Named tensors and all their associated APIs are an experimental feature and subject to change. Please do not use them for anything important until they are released as stable. (Triggered internally at  ../c10/core/TensorImpl.h:1156.)\n",
      "  return super(Tensor, self).refine_names(names)\n"
     ]
    }
   ],
   "source": [
    "img_named =  img_t.refine_names(..., 'channels', 'rows', 'columns')\n",
    "batch_named = batch_t.refine_names(..., 'channels', 'rows', 'columns')\n",
    "print(\"img named:\", img_named.shape, img_named.names)\n",
    "print(\"batch named:\", batch_named.shape, batch_named.names)"
   ]
  },
  {
   "cell_type": "code",
   "execution_count": null,
   "id": "949c6d1d",
   "metadata": {},
   "outputs": [],
   "source": []
  }
 ],
 "metadata": {
  "kernelspec": {
   "display_name": "Python 3 (ipykernel)",
   "language": "python",
   "name": "python3"
  },
  "language_info": {
   "codemirror_mode": {
    "name": "ipython",
    "version": 3
   },
   "file_extension": ".py",
   "mimetype": "text/x-python",
   "name": "python",
   "nbconvert_exporter": "python",
   "pygments_lexer": "ipython3",
   "version": "3.9.6"
  }
 },
 "nbformat": 4,
 "nbformat_minor": 5
}
